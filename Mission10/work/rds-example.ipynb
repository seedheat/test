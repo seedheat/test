{
 "cells": [
  {
   "cell_type": "code",
   "execution_count": 1,
   "metadata": {},
   "outputs": [],
   "source": [
    "# 引用套件 \n",
    "import pymysql\n",
    "\n",
    "#建立與資料庫連線\n",
    "conn  =  pymysql . connect ( host = 'cc104.rds.local' ,  user = 'root' ,  passwd = \"cc104rds\" )\n",
    "#conn  =  pymysql . connect ( host = 'cc104.rds.local' ,  user = 'root' ,  passwd = \"cc104rds\" ,  db = 'mysql' ) \n",
    "cur  =  conn . cursor () \n",
    "#cur . execute ( \"SELECT user FROM user\" ) \n",
    "#conn . close()\n",
    "\n"
   ]
  },
  {
   "cell_type": "code",
   "execution_count": 3,
   "metadata": {},
   "outputs": [
    {
     "data": {
      "text/plain": [
       "0"
      ]
     },
     "execution_count": 3,
     "metadata": {},
     "output_type": "execute_result"
    }
   ],
   "source": [
    "# 創建資料庫\n",
    "cur . execute ( \"CREATE database cc104\" )\n",
    "# 使用cc104資料庫\n",
    "cur . execute ( \"use cc104\" )"
   ]
  },
  {
   "cell_type": "code",
   "execution_count": 5,
   "metadata": {},
   "outputs": [
    {
     "data": {
      "text/plain": [
       "0"
      ]
     },
     "execution_count": 5,
     "metadata": {},
     "output_type": "execute_result"
    }
   ],
   "source": [
    "# 創建資料表\n",
    "cur . execute ( \"CREATE table classmate( sn integer auto_increment primary key, name varchar(255))\" ) "
   ]
  },
  {
   "cell_type": "code",
   "execution_count": 6,
   "metadata": {},
   "outputs": [],
   "source": [
    "# 插入資料\n",
    "cur . execute ( \"INSERT INTO classmate( name ) VALUES( 'LBH' )\" )\n",
    "conn.commit()"
   ]
  },
  {
   "cell_type": "code",
   "execution_count": 7,
   "metadata": {},
   "outputs": [
    {
     "data": {
      "text/plain": [
       "1"
      ]
     },
     "execution_count": 7,
     "metadata": {},
     "output_type": "execute_result"
    }
   ],
   "source": [
    "# 查詢資料\n",
    "cur . execute ( \"SELECT name FROM classmate\")"
   ]
  },
  {
   "cell_type": "code",
   "execution_count": 8,
   "metadata": {},
   "outputs": [],
   "source": [
    "# 關閉資料庫\n",
    "conn.close()"
   ]
  },
  {
   "cell_type": "code",
   "execution_count": null,
   "metadata": {},
   "outputs": [],
   "source": []
  }
 ],
 "metadata": {
  "kernelspec": {
   "display_name": "Python 3",
   "language": "python",
   "name": "python3"
  },
  "language_info": {
   "codemirror_mode": {
    "name": "ipython",
    "version": 3
   },
   "file_extension": ".py",
   "mimetype": "text/x-python",
   "name": "python",
   "nbconvert_exporter": "python",
   "pygments_lexer": "ipython3",
   "version": "3.7.1"
  }
 },
 "nbformat": 4,
 "nbformat_minor": 2
}
