{
 "cells": [
  {
   "cell_type": "code",
   "execution_count": 3,
   "metadata": {},
   "outputs": [
    {
     "data": {
      "text/plain": [
       "'\\n撰寫一個Flask Server， 設計一個端口為user，用戶能對此端口用GET方法訪問，並且挾帶query string， id=xxx。 若用戶傳入 id=123，則傳回json\\n\\n{\"userId\":123}\\n'"
      ]
     },
     "execution_count": 3,
     "metadata": {},
     "output_type": "execute_result"
    }
   ],
   "source": [
    "'''\n",
    "撰寫一個Flask Server， 設計一個端口為user，用戶能對此端口用GET方法訪問，並且挾帶query string， id=xxx。 \n",
    "若用戶傳入 id=123，則傳回json{\"userId\":123}\n",
    "'''"
   ]
  },
  {
   "cell_type": "code",
   "execution_count": null,
   "metadata": {},
   "outputs": [
    {
     "name": "stdout",
     "output_type": "stream",
     "text": [
      " * Serving Flask app \"__main__\" (lazy loading)\n",
      " * Environment: production\n",
      "   WARNING: Do not use the development server in a production environment.\n",
      "   Use a production WSGI server instead.\n",
      " * Debug mode: off\n"
     ]
    },
    {
     "name": "stderr",
     "output_type": "stream",
     "text": [
      " * Running on http://0.0.0.0:5000/ (Press CTRL+C to quit)\n",
      "127.0.0.1 - - [06/Jan/2019 20:41:13] \"GET /user?id=115 HTTP/1.1\" 200 -\n",
      "127.0.0.1 - - [06/Jan/2019 20:41:13] \"GET /favicon.ico HTTP/1.1\" 404 -\n"
     ]
    }
   ],
   "source": [
    "#引用 flask 套件\n",
    "from flask import Flask,request,jsonify,abort\n",
    "\n",
    "#建立flask server\n",
    "app = Flask(__name__,static_url_path = \"/images\", static_folder = \"./images/\" )\n",
    "\n",
    "#在 user 端口用 get 方法帶 query string\n",
    "@app.route('/user',methods=['GET'])\n",
    "def userdata():\n",
    "    value = request.args.get('id')\n",
    "    jsonDict = {'userId':value}\n",
    "    return jsonify(jsonDict)\n",
    "\n",
    "#啟動 flask\n",
    "if __name__ == \"__main__\":\n",
    "    app.run(host='0.0.0.0',port='5000')\n"
   ]
  }
 ],
 "metadata": {
  "kernelspec": {
   "display_name": "Python 3",
   "language": "python",
   "name": "python3"
  },
  "language_info": {
   "codemirror_mode": {
    "name": "ipython",
    "version": 3
   },
   "file_extension": ".py",
   "mimetype": "text/x-python",
   "name": "python",
   "nbconvert_exporter": "python",
   "pygments_lexer": "ipython3",
   "version": "3.7.1"
  }
 },
 "nbformat": 4,
 "nbformat_minor": 2
}
