{
 "cells": [
  {
   "cell_type": "code",
   "execution_count": 2,
   "metadata": {},
   "outputs": [],
   "source": [
    "# 引用 json 套件\n",
    "import json\n",
    "from pprint import pprint\n",
    "\n",
    "# 創立檔案名稱\n",
    "fileName = \"LBHisnotLBJ.json\"\n",
    "\n",
    "# 建立 json 物件\n",
    "rawData = { \"string\":\"I have a pen\" , \"number\":65536 , \"obj\": { \"task\":\"vMotion\", \"teacher\":\"Travis\"}, \"array\":[1,2,3,4,'a','b','c','d'] }\n",
    "# 寫入檔案\n",
    "writeFile = open( fileName, 'w')\n",
    "writeFile.write(json.dumps(rawData))\n",
    "writeFile.close()\n",
    "\n",
    "# 讀取 json檔案\n",
    "readFile = open( fileName, 'r')\n",
    "jsonObject = json.load(readFile)\n",
    "readFile.close()\n",
    "\n",
    "# 修改欄位內容\n",
    "jsonObject[\"string\"] = \"I have an apple\"\n",
    "jsonObject[\"number\"] = 32768\n",
    "jsonObject[\"obj\"] = { \"task\":\"white paper\", \"teacher\":\"LBH\" }\n",
    "jsonObject[\"array\"] = [5,6,7,8,\"e\",\"f\",\"g\",\"H\"]\n",
    "#print(jsonObject)\n",
    "\n",
    "# 回寫至檔案\n",
    "rewriteFile = open( fileName, 'w')\n",
    "rewriteFile.write( json.dumps(jsonObject))\n",
    "rewriteFile.close()"
   ]
  },
  {
   "cell_type": "code",
   "execution_count": null,
   "metadata": {},
   "outputs": [],
   "source": []
  }
 ],
 "metadata": {
  "kernelspec": {
   "display_name": "Python 3",
   "language": "python",
   "name": "python3"
  },
  "language_info": {
   "codemirror_mode": {
    "name": "ipython",
    "version": 3
   },
   "file_extension": ".py",
   "mimetype": "text/x-python",
   "name": "python",
   "nbconvert_exporter": "python",
   "pygments_lexer": "ipython3",
   "version": "3.7.1"
  }
 },
 "nbformat": 4,
 "nbformat_minor": 2
}
