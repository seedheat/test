{
 "cells": [
  {
   "cell_type": "code",
   "execution_count": 1,
   "metadata": {
    "scrolled": true
   },
   "outputs": [
    {
     "data": {
      "text/plain": [
       "'\\n撰寫一個Flask Server， 設計一個端口為user，用戶能對此端口用POST方法訪問，挾帶任意json body。 \\n將此body轉存成檔案，存在伺服器上，並將此檔案上傳至 iii-tutorial-v2桶內的student{座號}資料夾下。\\n'"
      ]
     },
     "execution_count": 1,
     "metadata": {},
     "output_type": "execute_result"
    }
   ],
   "source": [
    "'''\n",
    "撰寫一個Flask Server， 設計一個端口為user，用戶能對此端口用POST方法訪問，挾帶任意json body。 \n",
    "將此body轉存成檔案，存在伺服器上，並將此檔案上傳至 iii-tutorial-v2桶內的student{座號}資料夾下。\n",
    "'''"
   ]
  },
  {
   "cell_type": "code",
   "execution_count": null,
   "metadata": {},
   "outputs": [
    {
     "name": "stdout",
     "output_type": "stream",
     "text": [
      " * Serving Flask app \"__main__\" (lazy loading)\n",
      " * Environment: production\n",
      "   WARNING: Do not use the development server in a production environment.\n",
      "   Use a production WSGI server instead.\n",
      " * Debug mode: off\n"
     ]
    },
    {
     "name": "stderr",
     "output_type": "stream",
     "text": [
      " * Running on http://0.0.0.0:5000/ (Press CTRL+C to quit)\n",
      "127.0.0.1 - - [07/Jan/2019 22:08:02] \"POST /user HTTP/1.1\" 200 -\n"
     ]
    }
   ],
   "source": [
    "#引用 flask 套件\n",
    "from flask import Flask,request,jsonify,abort\n",
    "\n",
    "#建立flask server\n",
    "app = Flask(__name__,static_url_path = \"/images\", static_folder = \"./images/\" )\n",
    "\n",
    "#在 user 端口用 POST 方法\n",
    "@app.route('/user',methods=['POST'])\n",
    "def userdata():\n",
    "    #取 user POST的值\n",
    "    value = request.get_json()\n",
    "    #print (value)\n",
    "    \n",
    "    # 將接收到的 value 寫入檔案\n",
    "    # 引用套件\n",
    "    import datetime\n",
    "    import json\n",
    "    # 偵測日期，轉成UTC格式，並為檔案命名\n",
    "    utcDatetime = datetime.datetime.utcnow().strftime(\"%Y%m%d\")\n",
    "    fileName = str(utcDatetime) + '.json'\n",
    "    # 將資料寫入檔案\n",
    "    file = open(fileName, 'w')\n",
    "    #file.write(str(value))\n",
    "    file.write(json.dumps(value))\n",
    "    file.close()\n",
    "   \n",
    "    # 操作 aws s3\n",
    "    # 使用 boto3 套件\n",
    "    import boto3\n",
    "    from pprint import pprint\n",
    "    #創建一個 s3 客戶端\n",
    "    s3resource = boto3.resource('s3')\n",
    "    # 使用客戶端上傳資料檔案到 iii-tutorial-v2 的 Bucket，放到 student15 的目錄\n",
    "    uploadObject = s3resource.Object('iii-tutorial-v2', 'student15/'+str(fileName) ).put(Body=open( './'+str(fileName), 'rb'))\n",
    "    pprint(uploadObject)\n",
    "    return \"Upload Success\"\n",
    "\n",
    "#啟動 flask\n",
    "if __name__ == \"__main__\":\n",
    "    app.run(host='0.0.0.0',port='5000')"
   ]
  },
  {
   "cell_type": "code",
   "execution_count": null,
   "metadata": {},
   "outputs": [],
   "source": []
  }
 ],
 "metadata": {
  "kernelspec": {
   "display_name": "Python 3",
   "language": "python",
   "name": "python3"
  },
  "language_info": {
   "codemirror_mode": {
    "name": "ipython",
    "version": 3
   },
   "file_extension": ".py",
   "mimetype": "text/x-python",
   "name": "python",
   "nbconvert_exporter": "python",
   "pygments_lexer": "ipython3",
   "version": "3.7.1"
  }
 },
 "nbformat": 4,
 "nbformat_minor": 2
}
